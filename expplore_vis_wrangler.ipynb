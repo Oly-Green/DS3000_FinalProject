{
 "cells": [
  {
   "cell_type": "code",
   "execution_count": 1,
   "metadata": {},
   "outputs": [],
   "source": [
    "import pandas as pd\n",
    "import numpy as np\n",
    "from datetime import datetime as dt"
   ]
  },
  {
   "cell_type": "code",
   "execution_count": 2,
   "metadata": {},
   "outputs": [
    {
     "data": {
      "text/html": [
       "<div>\n",
       "<style scoped>\n",
       "    .dataframe tbody tr th:only-of-type {\n",
       "        vertical-align: middle;\n",
       "    }\n",
       "\n",
       "    .dataframe tbody tr th {\n",
       "        vertical-align: top;\n",
       "    }\n",
       "\n",
       "    .dataframe thead th {\n",
       "        text-align: right;\n",
       "    }\n",
       "</style>\n",
       "<table border=\"1\" class=\"dataframe\">\n",
       "  <thead>\n",
       "    <tr style=\"text-align: right;\">\n",
       "      <th></th>\n",
       "      <th>MAL_ID</th>\n",
       "      <th>Name</th>\n",
       "      <th>Score</th>\n",
       "      <th>Genres</th>\n",
       "      <th>English name</th>\n",
       "      <th>Japanese name</th>\n",
       "      <th>Type</th>\n",
       "      <th>Episodes</th>\n",
       "      <th>Aired</th>\n",
       "      <th>Premiered</th>\n",
       "      <th>...</th>\n",
       "      <th>Score-10</th>\n",
       "      <th>Score-9</th>\n",
       "      <th>Score-8</th>\n",
       "      <th>Score-7</th>\n",
       "      <th>Score-6</th>\n",
       "      <th>Score-5</th>\n",
       "      <th>Score-4</th>\n",
       "      <th>Score-3</th>\n",
       "      <th>Score-2</th>\n",
       "      <th>Score-1</th>\n",
       "    </tr>\n",
       "  </thead>\n",
       "  <tbody>\n",
       "    <tr>\n",
       "      <th>0</th>\n",
       "      <td>1</td>\n",
       "      <td>Cowboy Bebop</td>\n",
       "      <td>8.78</td>\n",
       "      <td>Action, Adventure, Comedy, Drama, Sci-Fi, Space</td>\n",
       "      <td>Cowboy Bebop</td>\n",
       "      <td>カウボーイビバップ</td>\n",
       "      <td>TV</td>\n",
       "      <td>26</td>\n",
       "      <td>Apr 3, 1998 to Apr 24, 1999</td>\n",
       "      <td>Spring 1998</td>\n",
       "      <td>...</td>\n",
       "      <td>229170.0</td>\n",
       "      <td>182126.0</td>\n",
       "      <td>131625.0</td>\n",
       "      <td>62330.0</td>\n",
       "      <td>20688.0</td>\n",
       "      <td>8904.0</td>\n",
       "      <td>3184.0</td>\n",
       "      <td>1357.0</td>\n",
       "      <td>741.0</td>\n",
       "      <td>1580.0</td>\n",
       "    </tr>\n",
       "    <tr>\n",
       "      <th>1</th>\n",
       "      <td>5</td>\n",
       "      <td>Cowboy Bebop: Tengoku no Tobira</td>\n",
       "      <td>8.39</td>\n",
       "      <td>Action, Drama, Mystery, Sci-Fi, Space</td>\n",
       "      <td>Cowboy Bebop:The Movie</td>\n",
       "      <td>カウボーイビバップ 天国の扉</td>\n",
       "      <td>Movie</td>\n",
       "      <td>1</td>\n",
       "      <td>Sep 1, 2001</td>\n",
       "      <td>Unknown</td>\n",
       "      <td>...</td>\n",
       "      <td>30043.0</td>\n",
       "      <td>49201.0</td>\n",
       "      <td>49505.0</td>\n",
       "      <td>22632.0</td>\n",
       "      <td>5805.0</td>\n",
       "      <td>1877.0</td>\n",
       "      <td>577.0</td>\n",
       "      <td>221.0</td>\n",
       "      <td>109.0</td>\n",
       "      <td>379.0</td>\n",
       "    </tr>\n",
       "    <tr>\n",
       "      <th>2</th>\n",
       "      <td>6</td>\n",
       "      <td>Trigun</td>\n",
       "      <td>8.24</td>\n",
       "      <td>Action, Sci-Fi, Adventure, Comedy, Drama, Shounen</td>\n",
       "      <td>Trigun</td>\n",
       "      <td>トライガン</td>\n",
       "      <td>TV</td>\n",
       "      <td>26</td>\n",
       "      <td>Apr 1, 1998 to Sep 30, 1998</td>\n",
       "      <td>Spring 1998</td>\n",
       "      <td>...</td>\n",
       "      <td>50229.0</td>\n",
       "      <td>75651.0</td>\n",
       "      <td>86142.0</td>\n",
       "      <td>49432.0</td>\n",
       "      <td>15376.0</td>\n",
       "      <td>5838.0</td>\n",
       "      <td>1965.0</td>\n",
       "      <td>664.0</td>\n",
       "      <td>316.0</td>\n",
       "      <td>533.0</td>\n",
       "    </tr>\n",
       "    <tr>\n",
       "      <th>3</th>\n",
       "      <td>7</td>\n",
       "      <td>Witch Hunter Robin</td>\n",
       "      <td>7.27</td>\n",
       "      <td>Action, Mystery, Police, Supernatural, Drama, ...</td>\n",
       "      <td>Witch Hunter Robin</td>\n",
       "      <td>Witch Hunter ROBIN (ウイッチハンターロビン)</td>\n",
       "      <td>TV</td>\n",
       "      <td>26</td>\n",
       "      <td>Jul 2, 2002 to Dec 24, 2002</td>\n",
       "      <td>Summer 2002</td>\n",
       "      <td>...</td>\n",
       "      <td>2182.0</td>\n",
       "      <td>4806.0</td>\n",
       "      <td>10128.0</td>\n",
       "      <td>11618.0</td>\n",
       "      <td>5709.0</td>\n",
       "      <td>2920.0</td>\n",
       "      <td>1083.0</td>\n",
       "      <td>353.0</td>\n",
       "      <td>164.0</td>\n",
       "      <td>131.0</td>\n",
       "    </tr>\n",
       "    <tr>\n",
       "      <th>4</th>\n",
       "      <td>8</td>\n",
       "      <td>Bouken Ou Beet</td>\n",
       "      <td>6.98</td>\n",
       "      <td>Adventure, Fantasy, Shounen, Supernatural</td>\n",
       "      <td>Beet the Vandel Buster</td>\n",
       "      <td>冒険王ビィト</td>\n",
       "      <td>TV</td>\n",
       "      <td>52</td>\n",
       "      <td>Sep 30, 2004 to Sep 29, 2005</td>\n",
       "      <td>Fall 2004</td>\n",
       "      <td>...</td>\n",
       "      <td>312.0</td>\n",
       "      <td>529.0</td>\n",
       "      <td>1242.0</td>\n",
       "      <td>1713.0</td>\n",
       "      <td>1068.0</td>\n",
       "      <td>634.0</td>\n",
       "      <td>265.0</td>\n",
       "      <td>83.0</td>\n",
       "      <td>50.0</td>\n",
       "      <td>27.0</td>\n",
       "    </tr>\n",
       "  </tbody>\n",
       "</table>\n",
       "<p>5 rows × 35 columns</p>\n",
       "</div>"
      ],
      "text/plain": [
       "   MAL_ID                             Name Score  \\\n",
       "0       1                     Cowboy Bebop  8.78   \n",
       "1       5  Cowboy Bebop: Tengoku no Tobira  8.39   \n",
       "2       6                           Trigun  8.24   \n",
       "3       7               Witch Hunter Robin  7.27   \n",
       "4       8                   Bouken Ou Beet  6.98   \n",
       "\n",
       "                                              Genres            English name  \\\n",
       "0    Action, Adventure, Comedy, Drama, Sci-Fi, Space            Cowboy Bebop   \n",
       "1              Action, Drama, Mystery, Sci-Fi, Space  Cowboy Bebop:The Movie   \n",
       "2  Action, Sci-Fi, Adventure, Comedy, Drama, Shounen                  Trigun   \n",
       "3  Action, Mystery, Police, Supernatural, Drama, ...      Witch Hunter Robin   \n",
       "4          Adventure, Fantasy, Shounen, Supernatural  Beet the Vandel Buster   \n",
       "\n",
       "                      Japanese name   Type Episodes  \\\n",
       "0                         カウボーイビバップ     TV       26   \n",
       "1                    カウボーイビバップ 天国の扉  Movie        1   \n",
       "2                             トライガン     TV       26   \n",
       "3  Witch Hunter ROBIN (ウイッチハンターロビン)     TV       26   \n",
       "4                            冒険王ビィト     TV       52   \n",
       "\n",
       "                          Aired    Premiered  ...  Score-10   Score-9  \\\n",
       "0   Apr 3, 1998 to Apr 24, 1999  Spring 1998  ...  229170.0  182126.0   \n",
       "1                   Sep 1, 2001      Unknown  ...   30043.0   49201.0   \n",
       "2   Apr 1, 1998 to Sep 30, 1998  Spring 1998  ...   50229.0   75651.0   \n",
       "3   Jul 2, 2002 to Dec 24, 2002  Summer 2002  ...    2182.0    4806.0   \n",
       "4  Sep 30, 2004 to Sep 29, 2005    Fall 2004  ...     312.0     529.0   \n",
       "\n",
       "    Score-8  Score-7  Score-6 Score-5 Score-4  Score-3  Score-2  Score-1  \n",
       "0  131625.0  62330.0  20688.0  8904.0  3184.0   1357.0    741.0   1580.0  \n",
       "1   49505.0  22632.0   5805.0  1877.0   577.0    221.0    109.0    379.0  \n",
       "2   86142.0  49432.0  15376.0  5838.0  1965.0    664.0    316.0    533.0  \n",
       "3   10128.0  11618.0   5709.0  2920.0  1083.0    353.0    164.0    131.0  \n",
       "4    1242.0   1713.0   1068.0   634.0   265.0     83.0     50.0     27.0  \n",
       "\n",
       "[5 rows x 35 columns]"
      ]
     },
     "execution_count": 2,
     "metadata": {},
     "output_type": "execute_result"
    }
   ],
   "source": [
    "df = pd.read_csv(\"res/anime.csv\")\n",
    "df.head()"
   ]
  },
  {
   "cell_type": "markdown",
   "metadata": {},
   "source": [
    "## Data Wrangling"
   ]
  },
  {
   "cell_type": "code",
   "execution_count": 3,
   "metadata": {},
   "outputs": [],
   "source": [
    "pd.set_option('display.max_columns', None)\n",
    "features = df"
   ]
  },
  {
   "cell_type": "code",
   "execution_count": 4,
   "metadata": {},
   "outputs": [],
   "source": [
    "#convert list columns into individual sections\n",
    "def split_list(column):\n",
    "    global features\n",
    "    features[column] = features[column].apply(lambda x: [_.strip() for _ in x.split(\",\")])\n",
    "\n",
    "\n",
    "split_list(\"Genres\")\n",
    "split_list(\"Producers\")\n",
    "split_list(\"Licensors\")\n",
    "split_list(\"Studios\")"
   ]
  },
  {
   "cell_type": "code",
   "execution_count": 5,
   "metadata": {},
   "outputs": [],
   "source": [
    "#replace unknowns with np.nan\n",
    "features.replace([\"Unknown\", None], np.nan, inplace=True)"
   ]
  },
  {
   "cell_type": "code",
   "execution_count": 6,
   "metadata": {},
   "outputs": [],
   "source": [
    "#convert strings to datetime objects\n",
    "def str_to_dt(string):\n",
    "    string = str(string)\n",
    "    string_list = [string]\n",
    "    if \"to\" in string:\n",
    "        string_list = string.split(\"to\")\n",
    "        \n",
    "    dts = []\n",
    "    for i in string_list:\n",
    "        i = i.strip()\n",
    "        if i==\"?\" or i==\"nan\":\n",
    "            string_dt = np.nan \n",
    "        else:\n",
    "            try:\n",
    "                string_dt = dt.strptime(i, \"%b %d, %Y\")\n",
    "            except:\n",
    "                try:\n",
    "                    string_dt = dt.strptime(i, \"%b, %Y\")\n",
    "                except:\n",
    "                    string_dt = dt.strptime(i, \"%Y\")\n",
    "        dts.append(string_dt)\n",
    "    return dts\n",
    "\n",
    "features[\"Aired\"] = features[\"Aired\"].apply(str_to_dt)"
   ]
  },
  {
   "cell_type": "code",
   "execution_count": 7,
   "metadata": {},
   "outputs": [],
   "source": [
    "#convert duration into int\n",
    "def str_to_num(string):\n",
    "    \n",
    "    string = str(string)\n",
    "    if \"nan\" in string:\n",
    "        return np.nan\n",
    "    \n",
    "    string_lst = string.split(\".\")\n",
    "    minute = 0\n",
    "    hour = 0\n",
    "    \n",
    "    for i in string_lst:\n",
    "        if \"min\" in i:\n",
    "            minute += int(i.strip(\"min \"))\n",
    "        if \"hr\" in i:\n",
    "            hour += int(i.strip(\"hr \"))\n",
    "    \n",
    "    return minute+(60*hour)\n",
    "\n",
    "features[\"Duration\"] = features[\"Duration\"].apply(str_to_num)"
   ]
  },
  {
   "cell_type": "code",
   "execution_count": 8,
   "metadata": {},
   "outputs": [],
   "source": [
    "#simplify Rating\n",
    "def simplify_rating(rating):\n",
    "    \n",
    "    rating = str(rating)\n",
    "    if \"nan\" in rating:\n",
    "        return np.nan\n",
    "    \n",
    "    if rating.startswith(\"R\"):\n",
    "        if rating.startswith(\"Rx\"):\n",
    "            return \"Rx\"\n",
    "        if rating.startswith(\"R+\"):\n",
    "            return \"R+\"\n",
    "        return \"R\"\n",
    "    \n",
    "    if rating.startswith(\"PG\"):\n",
    "        if \"13\" in rating:\n",
    "            return\"PG13\"\n",
    "        return \"PG\"\n",
    "    \n",
    "    if rating.startswith(\"G\"):\n",
    "        return \"G\"\n",
    "\n",
    "features[\"Rating\"] = features[\"Rating\"].apply(simplify_rating)"
   ]
  },
  {
   "cell_type": "code",
   "execution_count": 9,
   "metadata": {},
   "outputs": [
    {
     "data": {
      "text/html": [
       "<div>\n",
       "<style scoped>\n",
       "    .dataframe tbody tr th:only-of-type {\n",
       "        vertical-align: middle;\n",
       "    }\n",
       "\n",
       "    .dataframe tbody tr th {\n",
       "        vertical-align: top;\n",
       "    }\n",
       "\n",
       "    .dataframe thead th {\n",
       "        text-align: right;\n",
       "    }\n",
       "</style>\n",
       "<table border=\"1\" class=\"dataframe\">\n",
       "  <thead>\n",
       "    <tr style=\"text-align: right;\">\n",
       "      <th></th>\n",
       "      <th>MAL_ID</th>\n",
       "      <th>Name</th>\n",
       "      <th>Score</th>\n",
       "      <th>Genres</th>\n",
       "      <th>English name</th>\n",
       "      <th>Japanese name</th>\n",
       "      <th>Type</th>\n",
       "      <th>Episodes</th>\n",
       "      <th>Aired</th>\n",
       "      <th>Premiered</th>\n",
       "      <th>Producers</th>\n",
       "      <th>Licensors</th>\n",
       "      <th>Studios</th>\n",
       "      <th>Source</th>\n",
       "      <th>Duration</th>\n",
       "      <th>Rating</th>\n",
       "      <th>Ranked</th>\n",
       "      <th>Popularity</th>\n",
       "      <th>Members</th>\n",
       "      <th>Favorites</th>\n",
       "      <th>Watching</th>\n",
       "      <th>Completed</th>\n",
       "      <th>On-Hold</th>\n",
       "      <th>Dropped</th>\n",
       "      <th>Plan to Watch</th>\n",
       "      <th>Score-10</th>\n",
       "      <th>Score-9</th>\n",
       "      <th>Score-8</th>\n",
       "      <th>Score-7</th>\n",
       "      <th>Score-6</th>\n",
       "      <th>Score-5</th>\n",
       "      <th>Score-4</th>\n",
       "      <th>Score-3</th>\n",
       "      <th>Score-2</th>\n",
       "      <th>Score-1</th>\n",
       "    </tr>\n",
       "  </thead>\n",
       "  <tbody>\n",
       "    <tr>\n",
       "      <th>0</th>\n",
       "      <td>1</td>\n",
       "      <td>Cowboy Bebop</td>\n",
       "      <td>8.78</td>\n",
       "      <td>[Action, Adventure, Comedy, Drama, Sci-Fi, Space]</td>\n",
       "      <td>Cowboy Bebop</td>\n",
       "      <td>カウボーイビバップ</td>\n",
       "      <td>TV</td>\n",
       "      <td>26</td>\n",
       "      <td>[1998-04-03 00:00:00, 1999-04-24 00:00:00]</td>\n",
       "      <td>Spring 1998</td>\n",
       "      <td>[Bandai Visual]</td>\n",
       "      <td>[Funimation, Bandai Entertainment]</td>\n",
       "      <td>[Sunrise]</td>\n",
       "      <td>Original</td>\n",
       "      <td>24.0</td>\n",
       "      <td>R</td>\n",
       "      <td>28.0</td>\n",
       "      <td>39</td>\n",
       "      <td>1251960</td>\n",
       "      <td>61971</td>\n",
       "      <td>105808</td>\n",
       "      <td>718161</td>\n",
       "      <td>71513</td>\n",
       "      <td>26678</td>\n",
       "      <td>329800</td>\n",
       "      <td>229170.0</td>\n",
       "      <td>182126.0</td>\n",
       "      <td>131625.0</td>\n",
       "      <td>62330.0</td>\n",
       "      <td>20688.0</td>\n",
       "      <td>8904.0</td>\n",
       "      <td>3184.0</td>\n",
       "      <td>1357.0</td>\n",
       "      <td>741.0</td>\n",
       "      <td>1580.0</td>\n",
       "    </tr>\n",
       "    <tr>\n",
       "      <th>1</th>\n",
       "      <td>5</td>\n",
       "      <td>Cowboy Bebop: Tengoku no Tobira</td>\n",
       "      <td>8.39</td>\n",
       "      <td>[Action, Drama, Mystery, Sci-Fi, Space]</td>\n",
       "      <td>Cowboy Bebop:The Movie</td>\n",
       "      <td>カウボーイビバップ 天国の扉</td>\n",
       "      <td>Movie</td>\n",
       "      <td>1</td>\n",
       "      <td>[2001-09-01 00:00:00]</td>\n",
       "      <td>NaN</td>\n",
       "      <td>[Sunrise, Bandai Visual]</td>\n",
       "      <td>[Sony Pictures Entertainment]</td>\n",
       "      <td>[Bones]</td>\n",
       "      <td>Original</td>\n",
       "      <td>115.0</td>\n",
       "      <td>R</td>\n",
       "      <td>159.0</td>\n",
       "      <td>518</td>\n",
       "      <td>273145</td>\n",
       "      <td>1174</td>\n",
       "      <td>4143</td>\n",
       "      <td>208333</td>\n",
       "      <td>1935</td>\n",
       "      <td>770</td>\n",
       "      <td>57964</td>\n",
       "      <td>30043.0</td>\n",
       "      <td>49201.0</td>\n",
       "      <td>49505.0</td>\n",
       "      <td>22632.0</td>\n",
       "      <td>5805.0</td>\n",
       "      <td>1877.0</td>\n",
       "      <td>577.0</td>\n",
       "      <td>221.0</td>\n",
       "      <td>109.0</td>\n",
       "      <td>379.0</td>\n",
       "    </tr>\n",
       "    <tr>\n",
       "      <th>2</th>\n",
       "      <td>6</td>\n",
       "      <td>Trigun</td>\n",
       "      <td>8.24</td>\n",
       "      <td>[Action, Sci-Fi, Adventure, Comedy, Drama, Sho...</td>\n",
       "      <td>Trigun</td>\n",
       "      <td>トライガン</td>\n",
       "      <td>TV</td>\n",
       "      <td>26</td>\n",
       "      <td>[1998-04-01 00:00:00, 1998-09-30 00:00:00]</td>\n",
       "      <td>Spring 1998</td>\n",
       "      <td>[Victor Entertainment]</td>\n",
       "      <td>[Funimation, Geneon Entertainment USA]</td>\n",
       "      <td>[Madhouse]</td>\n",
       "      <td>Manga</td>\n",
       "      <td>24.0</td>\n",
       "      <td>PG13</td>\n",
       "      <td>266.0</td>\n",
       "      <td>201</td>\n",
       "      <td>558913</td>\n",
       "      <td>12944</td>\n",
       "      <td>29113</td>\n",
       "      <td>343492</td>\n",
       "      <td>25465</td>\n",
       "      <td>13925</td>\n",
       "      <td>146918</td>\n",
       "      <td>50229.0</td>\n",
       "      <td>75651.0</td>\n",
       "      <td>86142.0</td>\n",
       "      <td>49432.0</td>\n",
       "      <td>15376.0</td>\n",
       "      <td>5838.0</td>\n",
       "      <td>1965.0</td>\n",
       "      <td>664.0</td>\n",
       "      <td>316.0</td>\n",
       "      <td>533.0</td>\n",
       "    </tr>\n",
       "    <tr>\n",
       "      <th>3</th>\n",
       "      <td>7</td>\n",
       "      <td>Witch Hunter Robin</td>\n",
       "      <td>7.27</td>\n",
       "      <td>[Action, Mystery, Police, Supernatural, Drama,...</td>\n",
       "      <td>Witch Hunter Robin</td>\n",
       "      <td>Witch Hunter ROBIN (ウイッチハンターロビン)</td>\n",
       "      <td>TV</td>\n",
       "      <td>26</td>\n",
       "      <td>[2002-07-02 00:00:00, 2002-12-24 00:00:00]</td>\n",
       "      <td>Summer 2002</td>\n",
       "      <td>[TV Tokyo, Bandai Visual, Dentsu, Victor Enter...</td>\n",
       "      <td>[Funimation, Bandai Entertainment]</td>\n",
       "      <td>[Sunrise]</td>\n",
       "      <td>Original</td>\n",
       "      <td>25.0</td>\n",
       "      <td>PG13</td>\n",
       "      <td>2481.0</td>\n",
       "      <td>1467</td>\n",
       "      <td>94683</td>\n",
       "      <td>587</td>\n",
       "      <td>4300</td>\n",
       "      <td>46165</td>\n",
       "      <td>5121</td>\n",
       "      <td>5378</td>\n",
       "      <td>33719</td>\n",
       "      <td>2182.0</td>\n",
       "      <td>4806.0</td>\n",
       "      <td>10128.0</td>\n",
       "      <td>11618.0</td>\n",
       "      <td>5709.0</td>\n",
       "      <td>2920.0</td>\n",
       "      <td>1083.0</td>\n",
       "      <td>353.0</td>\n",
       "      <td>164.0</td>\n",
       "      <td>131.0</td>\n",
       "    </tr>\n",
       "    <tr>\n",
       "      <th>4</th>\n",
       "      <td>8</td>\n",
       "      <td>Bouken Ou Beet</td>\n",
       "      <td>6.98</td>\n",
       "      <td>[Adventure, Fantasy, Shounen, Supernatural]</td>\n",
       "      <td>Beet the Vandel Buster</td>\n",
       "      <td>冒険王ビィト</td>\n",
       "      <td>TV</td>\n",
       "      <td>52</td>\n",
       "      <td>[2004-09-30 00:00:00, 2005-09-29 00:00:00]</td>\n",
       "      <td>Fall 2004</td>\n",
       "      <td>[TV Tokyo, Dentsu]</td>\n",
       "      <td>[Unknown]</td>\n",
       "      <td>[Toei Animation]</td>\n",
       "      <td>Manga</td>\n",
       "      <td>23.0</td>\n",
       "      <td>PG</td>\n",
       "      <td>3710.0</td>\n",
       "      <td>4369</td>\n",
       "      <td>13224</td>\n",
       "      <td>18</td>\n",
       "      <td>642</td>\n",
       "      <td>7314</td>\n",
       "      <td>766</td>\n",
       "      <td>1108</td>\n",
       "      <td>3394</td>\n",
       "      <td>312.0</td>\n",
       "      <td>529.0</td>\n",
       "      <td>1242.0</td>\n",
       "      <td>1713.0</td>\n",
       "      <td>1068.0</td>\n",
       "      <td>634.0</td>\n",
       "      <td>265.0</td>\n",
       "      <td>83.0</td>\n",
       "      <td>50.0</td>\n",
       "      <td>27.0</td>\n",
       "    </tr>\n",
       "  </tbody>\n",
       "</table>\n",
       "</div>"
      ],
      "text/plain": [
       "   MAL_ID                             Name Score  \\\n",
       "0       1                     Cowboy Bebop  8.78   \n",
       "1       5  Cowboy Bebop: Tengoku no Tobira  8.39   \n",
       "2       6                           Trigun  8.24   \n",
       "3       7               Witch Hunter Robin  7.27   \n",
       "4       8                   Bouken Ou Beet  6.98   \n",
       "\n",
       "                                              Genres            English name  \\\n",
       "0  [Action, Adventure, Comedy, Drama, Sci-Fi, Space]            Cowboy Bebop   \n",
       "1            [Action, Drama, Mystery, Sci-Fi, Space]  Cowboy Bebop:The Movie   \n",
       "2  [Action, Sci-Fi, Adventure, Comedy, Drama, Sho...                  Trigun   \n",
       "3  [Action, Mystery, Police, Supernatural, Drama,...      Witch Hunter Robin   \n",
       "4        [Adventure, Fantasy, Shounen, Supernatural]  Beet the Vandel Buster   \n",
       "\n",
       "                      Japanese name   Type Episodes  \\\n",
       "0                         カウボーイビバップ     TV       26   \n",
       "1                    カウボーイビバップ 天国の扉  Movie        1   \n",
       "2                             トライガン     TV       26   \n",
       "3  Witch Hunter ROBIN (ウイッチハンターロビン)     TV       26   \n",
       "4                            冒険王ビィト     TV       52   \n",
       "\n",
       "                                        Aired    Premiered  \\\n",
       "0  [1998-04-03 00:00:00, 1999-04-24 00:00:00]  Spring 1998   \n",
       "1                       [2001-09-01 00:00:00]          NaN   \n",
       "2  [1998-04-01 00:00:00, 1998-09-30 00:00:00]  Spring 1998   \n",
       "3  [2002-07-02 00:00:00, 2002-12-24 00:00:00]  Summer 2002   \n",
       "4  [2004-09-30 00:00:00, 2005-09-29 00:00:00]    Fall 2004   \n",
       "\n",
       "                                           Producers  \\\n",
       "0                                    [Bandai Visual]   \n",
       "1                           [Sunrise, Bandai Visual]   \n",
       "2                             [Victor Entertainment]   \n",
       "3  [TV Tokyo, Bandai Visual, Dentsu, Victor Enter...   \n",
       "4                                 [TV Tokyo, Dentsu]   \n",
       "\n",
       "                                Licensors           Studios    Source  \\\n",
       "0      [Funimation, Bandai Entertainment]         [Sunrise]  Original   \n",
       "1           [Sony Pictures Entertainment]           [Bones]  Original   \n",
       "2  [Funimation, Geneon Entertainment USA]        [Madhouse]     Manga   \n",
       "3      [Funimation, Bandai Entertainment]         [Sunrise]  Original   \n",
       "4                               [Unknown]  [Toei Animation]     Manga   \n",
       "\n",
       "   Duration Rating  Ranked  Popularity  Members  Favorites  Watching  \\\n",
       "0      24.0      R    28.0          39  1251960      61971    105808   \n",
       "1     115.0      R   159.0         518   273145       1174      4143   \n",
       "2      24.0   PG13   266.0         201   558913      12944     29113   \n",
       "3      25.0   PG13  2481.0        1467    94683        587      4300   \n",
       "4      23.0     PG  3710.0        4369    13224         18       642   \n",
       "\n",
       "   Completed  On-Hold  Dropped  Plan to Watch  Score-10   Score-9   Score-8  \\\n",
       "0     718161    71513    26678         329800  229170.0  182126.0  131625.0   \n",
       "1     208333     1935      770          57964   30043.0   49201.0   49505.0   \n",
       "2     343492    25465    13925         146918   50229.0   75651.0   86142.0   \n",
       "3      46165     5121     5378          33719    2182.0    4806.0   10128.0   \n",
       "4       7314      766     1108           3394     312.0     529.0    1242.0   \n",
       "\n",
       "   Score-7  Score-6 Score-5 Score-4 Score-3 Score-2 Score-1  \n",
       "0  62330.0  20688.0  8904.0  3184.0  1357.0   741.0  1580.0  \n",
       "1  22632.0   5805.0  1877.0   577.0   221.0   109.0   379.0  \n",
       "2  49432.0  15376.0  5838.0  1965.0   664.0   316.0   533.0  \n",
       "3  11618.0   5709.0  2920.0  1083.0   353.0   164.0   131.0  \n",
       "4   1713.0   1068.0   634.0   265.0    83.0    50.0    27.0  "
      ]
     },
     "execution_count": 9,
     "metadata": {},
     "output_type": "execute_result"
    }
   ],
   "source": [
    "features.head()"
   ]
  },
  {
   "cell_type": "code",
   "execution_count": 12,
   "metadata": {},
   "outputs": [
    {
     "data": {
      "text/html": [
       "<div>\n",
       "<style scoped>\n",
       "    .dataframe tbody tr th:only-of-type {\n",
       "        vertical-align: middle;\n",
       "    }\n",
       "\n",
       "    .dataframe tbody tr th {\n",
       "        vertical-align: top;\n",
       "    }\n",
       "\n",
       "    .dataframe thead th {\n",
       "        text-align: right;\n",
       "    }\n",
       "</style>\n",
       "<table border=\"1\" class=\"dataframe\">\n",
       "  <thead>\n",
       "    <tr style=\"text-align: right;\">\n",
       "      <th></th>\n",
       "      <th>MAL_ID</th>\n",
       "      <th>Name</th>\n",
       "      <th>Score</th>\n",
       "      <th>Genres</th>\n",
       "      <th>English name</th>\n",
       "      <th>Japanese name</th>\n",
       "      <th>Type</th>\n",
       "      <th>Episodes</th>\n",
       "      <th>Aired</th>\n",
       "      <th>Premiered</th>\n",
       "      <th>Producers</th>\n",
       "      <th>Licensors</th>\n",
       "      <th>Studios</th>\n",
       "      <th>Source</th>\n",
       "      <th>Duration</th>\n",
       "      <th>Rating</th>\n",
       "      <th>Ranked</th>\n",
       "      <th>Popularity</th>\n",
       "      <th>Members</th>\n",
       "      <th>Favorites</th>\n",
       "      <th>Watching</th>\n",
       "      <th>Completed</th>\n",
       "      <th>On-Hold</th>\n",
       "      <th>Dropped</th>\n",
       "      <th>Plan to Watch</th>\n",
       "      <th>Score-10</th>\n",
       "      <th>Score-9</th>\n",
       "      <th>Score-8</th>\n",
       "      <th>Score-7</th>\n",
       "      <th>Score-6</th>\n",
       "      <th>Score-5</th>\n",
       "      <th>Score-4</th>\n",
       "      <th>Score-3</th>\n",
       "      <th>Score-2</th>\n",
       "      <th>Score-1</th>\n",
       "    </tr>\n",
       "  </thead>\n",
       "  <tbody>\n",
       "    <tr>\n",
       "      <th>1393</th>\n",
       "      <td>1535</td>\n",
       "      <td>Death Note</td>\n",
       "      <td>8.63</td>\n",
       "      <td>[Mystery, Police, Psychological, Supernatural,...</td>\n",
       "      <td>Death Note</td>\n",
       "      <td>デスノート</td>\n",
       "      <td>TV</td>\n",
       "      <td>37</td>\n",
       "      <td>[2006-10-04 00:00:00, 2007-06-27 00:00:00]</td>\n",
       "      <td>Fall 2006</td>\n",
       "      <td>[VAP, Konami, Ashi Production, Nippon Televisi...</td>\n",
       "      <td>[VIZ Media]</td>\n",
       "      <td>[Madhouse]</td>\n",
       "      <td>Manga</td>\n",
       "      <td>23.0</td>\n",
       "      <td>R</td>\n",
       "      <td>60.0</td>\n",
       "      <td>1</td>\n",
       "      <td>2589552</td>\n",
       "      <td>145201</td>\n",
       "      <td>122401</td>\n",
       "      <td>2146116</td>\n",
       "      <td>75054</td>\n",
       "      <td>80834</td>\n",
       "      <td>165147</td>\n",
       "      <td>557406.0</td>\n",
       "      <td>535252.0</td>\n",
       "      <td>415890.0</td>\n",
       "      <td>201522.0</td>\n",
       "      <td>68577.0</td>\n",
       "      <td>28048.0</td>\n",
       "      <td>10462.0</td>\n",
       "      <td>3692.0</td>\n",
       "      <td>2256.0</td>\n",
       "      <td>3586.0</td>\n",
       "    </tr>\n",
       "    <tr>\n",
       "      <th>7449</th>\n",
       "      <td>16498</td>\n",
       "      <td>Shingeki no Kyojin</td>\n",
       "      <td>8.48</td>\n",
       "      <td>[Action, Military, Mystery, Super Power, Drama...</td>\n",
       "      <td>Attack on Titan</td>\n",
       "      <td>進撃の巨人</td>\n",
       "      <td>TV</td>\n",
       "      <td>25</td>\n",
       "      <td>[2013-04-07 00:00:00, 2013-09-29 00:00:00]</td>\n",
       "      <td>Spring 2013</td>\n",
       "      <td>[Production I.G, Dentsu, Mainichi Broadcasting...</td>\n",
       "      <td>[Funimation]</td>\n",
       "      <td>[Wit Studio]</td>\n",
       "      <td>Manga</td>\n",
       "      <td>24.0</td>\n",
       "      <td>R</td>\n",
       "      <td>115.0</td>\n",
       "      <td>2</td>\n",
       "      <td>2531397</td>\n",
       "      <td>129844</td>\n",
       "      <td>140753</td>\n",
       "      <td>2182587</td>\n",
       "      <td>37345</td>\n",
       "      <td>44635</td>\n",
       "      <td>126077</td>\n",
       "      <td>470882.0</td>\n",
       "      <td>514879.0</td>\n",
       "      <td>459113.0</td>\n",
       "      <td>220228.0</td>\n",
       "      <td>70768.0</td>\n",
       "      <td>31141.0</td>\n",
       "      <td>11805.0</td>\n",
       "      <td>4637.0</td>\n",
       "      <td>2707.0</td>\n",
       "      <td>4939.0</td>\n",
       "    </tr>\n",
       "    <tr>\n",
       "      <th>3971</th>\n",
       "      <td>5114</td>\n",
       "      <td>Fullmetal Alchemist: Brotherhood</td>\n",
       "      <td>9.19</td>\n",
       "      <td>[Action, Military, Adventure, Comedy, Drama, M...</td>\n",
       "      <td>Fullmetal Alchemist:Brotherhood</td>\n",
       "      <td>鋼の錬金術師 FULLMETAL ALCHEMIST</td>\n",
       "      <td>TV</td>\n",
       "      <td>64</td>\n",
       "      <td>[2009-04-05 00:00:00, 2010-07-04 00:00:00]</td>\n",
       "      <td>Spring 2009</td>\n",
       "      <td>[Aniplex, Square Enix, Mainichi Broadcasting S...</td>\n",
       "      <td>[Funimation, Aniplex of America]</td>\n",
       "      <td>[Bones]</td>\n",
       "      <td>Manga</td>\n",
       "      <td>24.0</td>\n",
       "      <td>R</td>\n",
       "      <td>1.0</td>\n",
       "      <td>3</td>\n",
       "      <td>2248456</td>\n",
       "      <td>183914</td>\n",
       "      <td>171871</td>\n",
       "      <td>1644938</td>\n",
       "      <td>75728</td>\n",
       "      <td>32456</td>\n",
       "      <td>323463</td>\n",
       "      <td>714811.0</td>\n",
       "      <td>401507.0</td>\n",
       "      <td>199160.0</td>\n",
       "      <td>70045.0</td>\n",
       "      <td>20210.0</td>\n",
       "      <td>9308.0</td>\n",
       "      <td>3222.0</td>\n",
       "      <td>1536.0</td>\n",
       "      <td>2162.0</td>\n",
       "      <td>16806.0</td>\n",
       "    </tr>\n",
       "    <tr>\n",
       "      <th>6614</th>\n",
       "      <td>11757</td>\n",
       "      <td>Sword Art Online</td>\n",
       "      <td>7.25</td>\n",
       "      <td>[Action, Game, Adventure, Romance, Fantasy]</td>\n",
       "      <td>Sword Art Online</td>\n",
       "      <td>ソードアート・オンライン</td>\n",
       "      <td>TV</td>\n",
       "      <td>25</td>\n",
       "      <td>[2012-07-08 00:00:00, 2012-12-23 00:00:00]</td>\n",
       "      <td>Summer 2012</td>\n",
       "      <td>[Aniplex, Genco, DAX Production, ASCII Media W...</td>\n",
       "      <td>[Aniplex of America]</td>\n",
       "      <td>[A-1 Pictures]</td>\n",
       "      <td>Light novel</td>\n",
       "      <td>23.0</td>\n",
       "      <td>PG13</td>\n",
       "      <td>2584.0</td>\n",
       "      <td>4</td>\n",
       "      <td>2214395</td>\n",
       "      <td>66342</td>\n",
       "      <td>80304</td>\n",
       "      <td>1907261</td>\n",
       "      <td>25632</td>\n",
       "      <td>90661</td>\n",
       "      <td>110537</td>\n",
       "      <td>241049.0</td>\n",
       "      <td>236672.0</td>\n",
       "      <td>305386.0</td>\n",
       "      <td>303813.0</td>\n",
       "      <td>188431.0</td>\n",
       "      <td>124819.0</td>\n",
       "      <td>81155.0</td>\n",
       "      <td>44204.0</td>\n",
       "      <td>25371.0</td>\n",
       "      <td>23472.0</td>\n",
       "    </tr>\n",
       "    <tr>\n",
       "      <th>10451</th>\n",
       "      <td>30276</td>\n",
       "      <td>One Punch Man</td>\n",
       "      <td>8.57</td>\n",
       "      <td>[Action, Sci-Fi, Comedy, Parody, Super Power, ...</td>\n",
       "      <td>One Punch Man</td>\n",
       "      <td>ワンパンマン</td>\n",
       "      <td>TV</td>\n",
       "      <td>12</td>\n",
       "      <td>[2015-10-05 00:00:00, 2015-12-21 00:00:00]</td>\n",
       "      <td>Fall 2015</td>\n",
       "      <td>[TV Tokyo, Bandai Visual, Lantis, Asatsu DK, B...</td>\n",
       "      <td>[VIZ Media]</td>\n",
       "      <td>[Madhouse]</td>\n",
       "      <td>Web manga</td>\n",
       "      <td>24.0</td>\n",
       "      <td>R</td>\n",
       "      <td>81.0</td>\n",
       "      <td>5</td>\n",
       "      <td>2123866</td>\n",
       "      <td>54435</td>\n",
       "      <td>96568</td>\n",
       "      <td>1841220</td>\n",
       "      <td>30271</td>\n",
       "      <td>26755</td>\n",
       "      <td>129052</td>\n",
       "      <td>360187.0</td>\n",
       "      <td>465041.0</td>\n",
       "      <td>403832.0</td>\n",
       "      <td>172181.0</td>\n",
       "      <td>47365.0</td>\n",
       "      <td>17873.0</td>\n",
       "      <td>5706.0</td>\n",
       "      <td>2279.0</td>\n",
       "      <td>1448.0</td>\n",
       "      <td>2733.0</td>\n",
       "    </tr>\n",
       "  </tbody>\n",
       "</table>\n",
       "</div>"
      ],
      "text/plain": [
       "       MAL_ID                              Name Score  \\\n",
       "1393     1535                        Death Note  8.63   \n",
       "7449    16498                Shingeki no Kyojin  8.48   \n",
       "3971     5114  Fullmetal Alchemist: Brotherhood  9.19   \n",
       "6614    11757                  Sword Art Online  7.25   \n",
       "10451   30276                     One Punch Man  8.57   \n",
       "\n",
       "                                                  Genres  \\\n",
       "1393   [Mystery, Police, Psychological, Supernatural,...   \n",
       "7449   [Action, Military, Mystery, Super Power, Drama...   \n",
       "3971   [Action, Military, Adventure, Comedy, Drama, M...   \n",
       "6614         [Action, Game, Adventure, Romance, Fantasy]   \n",
       "10451  [Action, Sci-Fi, Comedy, Parody, Super Power, ...   \n",
       "\n",
       "                          English name               Japanese name Type  \\\n",
       "1393                        Death Note                       デスノート   TV   \n",
       "7449                   Attack on Titan                       進撃の巨人   TV   \n",
       "3971   Fullmetal Alchemist:Brotherhood  鋼の錬金術師 FULLMETAL ALCHEMIST   TV   \n",
       "6614                  Sword Art Online                ソードアート・オンライン   TV   \n",
       "10451                    One Punch Man                      ワンパンマン   TV   \n",
       "\n",
       "      Episodes                                       Aired    Premiered  \\\n",
       "1393        37  [2006-10-04 00:00:00, 2007-06-27 00:00:00]    Fall 2006   \n",
       "7449        25  [2013-04-07 00:00:00, 2013-09-29 00:00:00]  Spring 2013   \n",
       "3971        64  [2009-04-05 00:00:00, 2010-07-04 00:00:00]  Spring 2009   \n",
       "6614        25  [2012-07-08 00:00:00, 2012-12-23 00:00:00]  Summer 2012   \n",
       "10451       12  [2015-10-05 00:00:00, 2015-12-21 00:00:00]    Fall 2015   \n",
       "\n",
       "                                               Producers  \\\n",
       "1393   [VAP, Konami, Ashi Production, Nippon Televisi...   \n",
       "7449   [Production I.G, Dentsu, Mainichi Broadcasting...   \n",
       "3971   [Aniplex, Square Enix, Mainichi Broadcasting S...   \n",
       "6614   [Aniplex, Genco, DAX Production, ASCII Media W...   \n",
       "10451  [TV Tokyo, Bandai Visual, Lantis, Asatsu DK, B...   \n",
       "\n",
       "                              Licensors         Studios       Source  \\\n",
       "1393                        [VIZ Media]      [Madhouse]        Manga   \n",
       "7449                       [Funimation]    [Wit Studio]        Manga   \n",
       "3971   [Funimation, Aniplex of America]         [Bones]        Manga   \n",
       "6614               [Aniplex of America]  [A-1 Pictures]  Light novel   \n",
       "10451                       [VIZ Media]      [Madhouse]    Web manga   \n",
       "\n",
       "       Duration Rating  Ranked  Popularity  Members  Favorites  Watching  \\\n",
       "1393       23.0      R    60.0           1  2589552     145201    122401   \n",
       "7449       24.0      R   115.0           2  2531397     129844    140753   \n",
       "3971       24.0      R     1.0           3  2248456     183914    171871   \n",
       "6614       23.0   PG13  2584.0           4  2214395      66342     80304   \n",
       "10451      24.0      R    81.0           5  2123866      54435     96568   \n",
       "\n",
       "       Completed  On-Hold  Dropped  Plan to Watch  Score-10   Score-9  \\\n",
       "1393     2146116    75054    80834         165147  557406.0  535252.0   \n",
       "7449     2182587    37345    44635         126077  470882.0  514879.0   \n",
       "3971     1644938    75728    32456         323463  714811.0  401507.0   \n",
       "6614     1907261    25632    90661         110537  241049.0  236672.0   \n",
       "10451    1841220    30271    26755         129052  360187.0  465041.0   \n",
       "\n",
       "        Score-8   Score-7   Score-6   Score-5  Score-4  Score-3  Score-2  \\\n",
       "1393   415890.0  201522.0   68577.0   28048.0  10462.0   3692.0   2256.0   \n",
       "7449   459113.0  220228.0   70768.0   31141.0  11805.0   4637.0   2707.0   \n",
       "3971   199160.0   70045.0   20210.0    9308.0   3222.0   1536.0   2162.0   \n",
       "6614   305386.0  303813.0  188431.0  124819.0  81155.0  44204.0  25371.0   \n",
       "10451  403832.0  172181.0   47365.0   17873.0   5706.0   2279.0   1448.0   \n",
       "\n",
       "       Score-1  \n",
       "1393    3586.0  \n",
       "7449    4939.0  \n",
       "3971   16806.0  \n",
       "6614   23472.0  \n",
       "10451   2733.0  "
      ]
     },
     "execution_count": 12,
     "metadata": {},
     "output_type": "execute_result"
    }
   ],
   "source": [
    "df = df.sort_values(by=\"Members\", ascending =False, kind='quicksort', na_position='last', ignore_index=False, key=None)\n",
    "df.head()"
   ]
  },
  {
   "cell_type": "code",
   "execution_count": 15,
   "metadata": {},
   "outputs": [
    {
     "data": {
      "text/html": [
       "<div>\n",
       "<style scoped>\n",
       "    .dataframe tbody tr th:only-of-type {\n",
       "        vertical-align: middle;\n",
       "    }\n",
       "\n",
       "    .dataframe tbody tr th {\n",
       "        vertical-align: top;\n",
       "    }\n",
       "\n",
       "    .dataframe thead th {\n",
       "        text-align: right;\n",
       "    }\n",
       "</style>\n",
       "<table border=\"1\" class=\"dataframe\">\n",
       "  <thead>\n",
       "    <tr style=\"text-align: right;\">\n",
       "      <th></th>\n",
       "      <th>Genre</th>\n",
       "      <th>Sum_Genre</th>\n",
       "    </tr>\n",
       "  </thead>\n",
       "  <tbody>\n",
       "    <tr>\n",
       "      <th>0</th>\n",
       "      <td>Genres</td>\n",
       "      <td>Genres       Mystery\n",
       "Members    608673271\n",
       "dtyp...</td>\n",
       "    </tr>\n",
       "  </tbody>\n",
       "</table>\n",
       "</div>"
      ],
      "text/plain": [
       "    Genre                                          Sum_Genre\n",
       "0  Genres  Genres       Mystery\n",
       "Members    608673271\n",
       "dtyp..."
      ]
     },
     "execution_count": 15,
     "metadata": {},
     "output_type": "execute_result"
    }
   ],
   "source": [
    "series1 = []\n",
    "series2 = []\n",
    "for column in df:\n",
    "    if \"Genres\" in str(column):\n",
    "        sum1 = df.loc[df[column] == 1, 'Members'].sum()\n",
    "        series1.append(column)\n",
    "        series2.append(sum1)\n",
    "df_genres_sum = pd.DataFrame({\"Genre\":series1, \"Sum_Genre\":series2})\n",
    "df_genres_sum"
   ]
  },
  {
   "cell_type": "code",
   "execution_count": 14,
   "metadata": {},
   "outputs": [
    {
     "data": {
      "application/vnd.plotly.v1+json": {
       "config": {
        "plotlyServerURL": "https://plot.ly"
       },
       "data": [
        {
         "domain": {
          "x": [
           0,
           1
          ],
          "y": [
           0,
           1
          ]
         },
         "hovertemplate": "Genre=%{label}<br>Sum_Genre=%{value}<extra></extra>",
         "labels": [
          "Genres"
         ],
         "legendgroup": "",
         "name": "",
         "showlegend": true,
         "type": "pie",
         "values": [
          0
         ]
        }
       ],
       "layout": {
        "legend": {
         "tracegroupgap": 0
        },
        "template": {
         "data": {
          "bar": [
           {
            "error_x": {
             "color": "#2a3f5f"
            },
            "error_y": {
             "color": "#2a3f5f"
            },
            "marker": {
             "line": {
              "color": "#E5ECF6",
              "width": 0.5
             },
             "pattern": {
              "fillmode": "overlay",
              "size": 10,
              "solidity": 0.2
             }
            },
            "type": "bar"
           }
          ],
          "barpolar": [
           {
            "marker": {
             "line": {
              "color": "#E5ECF6",
              "width": 0.5
             },
             "pattern": {
              "fillmode": "overlay",
              "size": 10,
              "solidity": 0.2
             }
            },
            "type": "barpolar"
           }
          ],
          "carpet": [
           {
            "aaxis": {
             "endlinecolor": "#2a3f5f",
             "gridcolor": "white",
             "linecolor": "white",
             "minorgridcolor": "white",
             "startlinecolor": "#2a3f5f"
            },
            "baxis": {
             "endlinecolor": "#2a3f5f",
             "gridcolor": "white",
             "linecolor": "white",
             "minorgridcolor": "white",
             "startlinecolor": "#2a3f5f"
            },
            "type": "carpet"
           }
          ],
          "choropleth": [
           {
            "colorbar": {
             "outlinewidth": 0,
             "ticks": ""
            },
            "type": "choropleth"
           }
          ],
          "contour": [
           {
            "colorbar": {
             "outlinewidth": 0,
             "ticks": ""
            },
            "colorscale": [
             [
              0,
              "#0d0887"
             ],
             [
              0.1111111111111111,
              "#46039f"
             ],
             [
              0.2222222222222222,
              "#7201a8"
             ],
             [
              0.3333333333333333,
              "#9c179e"
             ],
             [
              0.4444444444444444,
              "#bd3786"
             ],
             [
              0.5555555555555556,
              "#d8576b"
             ],
             [
              0.6666666666666666,
              "#ed7953"
             ],
             [
              0.7777777777777778,
              "#fb9f3a"
             ],
             [
              0.8888888888888888,
              "#fdca26"
             ],
             [
              1,
              "#f0f921"
             ]
            ],
            "type": "contour"
           }
          ],
          "contourcarpet": [
           {
            "colorbar": {
             "outlinewidth": 0,
             "ticks": ""
            },
            "type": "contourcarpet"
           }
          ],
          "heatmap": [
           {
            "colorbar": {
             "outlinewidth": 0,
             "ticks": ""
            },
            "colorscale": [
             [
              0,
              "#0d0887"
             ],
             [
              0.1111111111111111,
              "#46039f"
             ],
             [
              0.2222222222222222,
              "#7201a8"
             ],
             [
              0.3333333333333333,
              "#9c179e"
             ],
             [
              0.4444444444444444,
              "#bd3786"
             ],
             [
              0.5555555555555556,
              "#d8576b"
             ],
             [
              0.6666666666666666,
              "#ed7953"
             ],
             [
              0.7777777777777778,
              "#fb9f3a"
             ],
             [
              0.8888888888888888,
              "#fdca26"
             ],
             [
              1,
              "#f0f921"
             ]
            ],
            "type": "heatmap"
           }
          ],
          "heatmapgl": [
           {
            "colorbar": {
             "outlinewidth": 0,
             "ticks": ""
            },
            "colorscale": [
             [
              0,
              "#0d0887"
             ],
             [
              0.1111111111111111,
              "#46039f"
             ],
             [
              0.2222222222222222,
              "#7201a8"
             ],
             [
              0.3333333333333333,
              "#9c179e"
             ],
             [
              0.4444444444444444,
              "#bd3786"
             ],
             [
              0.5555555555555556,
              "#d8576b"
             ],
             [
              0.6666666666666666,
              "#ed7953"
             ],
             [
              0.7777777777777778,
              "#fb9f3a"
             ],
             [
              0.8888888888888888,
              "#fdca26"
             ],
             [
              1,
              "#f0f921"
             ]
            ],
            "type": "heatmapgl"
           }
          ],
          "histogram": [
           {
            "marker": {
             "pattern": {
              "fillmode": "overlay",
              "size": 10,
              "solidity": 0.2
             }
            },
            "type": "histogram"
           }
          ],
          "histogram2d": [
           {
            "colorbar": {
             "outlinewidth": 0,
             "ticks": ""
            },
            "colorscale": [
             [
              0,
              "#0d0887"
             ],
             [
              0.1111111111111111,
              "#46039f"
             ],
             [
              0.2222222222222222,
              "#7201a8"
             ],
             [
              0.3333333333333333,
              "#9c179e"
             ],
             [
              0.4444444444444444,
              "#bd3786"
             ],
             [
              0.5555555555555556,
              "#d8576b"
             ],
             [
              0.6666666666666666,
              "#ed7953"
             ],
             [
              0.7777777777777778,
              "#fb9f3a"
             ],
             [
              0.8888888888888888,
              "#fdca26"
             ],
             [
              1,
              "#f0f921"
             ]
            ],
            "type": "histogram2d"
           }
          ],
          "histogram2dcontour": [
           {
            "colorbar": {
             "outlinewidth": 0,
             "ticks": ""
            },
            "colorscale": [
             [
              0,
              "#0d0887"
             ],
             [
              0.1111111111111111,
              "#46039f"
             ],
             [
              0.2222222222222222,
              "#7201a8"
             ],
             [
              0.3333333333333333,
              "#9c179e"
             ],
             [
              0.4444444444444444,
              "#bd3786"
             ],
             [
              0.5555555555555556,
              "#d8576b"
             ],
             [
              0.6666666666666666,
              "#ed7953"
             ],
             [
              0.7777777777777778,
              "#fb9f3a"
             ],
             [
              0.8888888888888888,
              "#fdca26"
             ],
             [
              1,
              "#f0f921"
             ]
            ],
            "type": "histogram2dcontour"
           }
          ],
          "mesh3d": [
           {
            "colorbar": {
             "outlinewidth": 0,
             "ticks": ""
            },
            "type": "mesh3d"
           }
          ],
          "parcoords": [
           {
            "line": {
             "colorbar": {
              "outlinewidth": 0,
              "ticks": ""
             }
            },
            "type": "parcoords"
           }
          ],
          "pie": [
           {
            "automargin": true,
            "type": "pie"
           }
          ],
          "scatter": [
           {
            "marker": {
             "colorbar": {
              "outlinewidth": 0,
              "ticks": ""
             }
            },
            "type": "scatter"
           }
          ],
          "scatter3d": [
           {
            "line": {
             "colorbar": {
              "outlinewidth": 0,
              "ticks": ""
             }
            },
            "marker": {
             "colorbar": {
              "outlinewidth": 0,
              "ticks": ""
             }
            },
            "type": "scatter3d"
           }
          ],
          "scattercarpet": [
           {
            "marker": {
             "colorbar": {
              "outlinewidth": 0,
              "ticks": ""
             }
            },
            "type": "scattercarpet"
           }
          ],
          "scattergeo": [
           {
            "marker": {
             "colorbar": {
              "outlinewidth": 0,
              "ticks": ""
             }
            },
            "type": "scattergeo"
           }
          ],
          "scattergl": [
           {
            "marker": {
             "colorbar": {
              "outlinewidth": 0,
              "ticks": ""
             }
            },
            "type": "scattergl"
           }
          ],
          "scattermapbox": [
           {
            "marker": {
             "colorbar": {
              "outlinewidth": 0,
              "ticks": ""
             }
            },
            "type": "scattermapbox"
           }
          ],
          "scatterpolar": [
           {
            "marker": {
             "colorbar": {
              "outlinewidth": 0,
              "ticks": ""
             }
            },
            "type": "scatterpolar"
           }
          ],
          "scatterpolargl": [
           {
            "marker": {
             "colorbar": {
              "outlinewidth": 0,
              "ticks": ""
             }
            },
            "type": "scatterpolargl"
           }
          ],
          "scatterternary": [
           {
            "marker": {
             "colorbar": {
              "outlinewidth": 0,
              "ticks": ""
             }
            },
            "type": "scatterternary"
           }
          ],
          "surface": [
           {
            "colorbar": {
             "outlinewidth": 0,
             "ticks": ""
            },
            "colorscale": [
             [
              0,
              "#0d0887"
             ],
             [
              0.1111111111111111,
              "#46039f"
             ],
             [
              0.2222222222222222,
              "#7201a8"
             ],
             [
              0.3333333333333333,
              "#9c179e"
             ],
             [
              0.4444444444444444,
              "#bd3786"
             ],
             [
              0.5555555555555556,
              "#d8576b"
             ],
             [
              0.6666666666666666,
              "#ed7953"
             ],
             [
              0.7777777777777778,
              "#fb9f3a"
             ],
             [
              0.8888888888888888,
              "#fdca26"
             ],
             [
              1,
              "#f0f921"
             ]
            ],
            "type": "surface"
           }
          ],
          "table": [
           {
            "cells": {
             "fill": {
              "color": "#EBF0F8"
             },
             "line": {
              "color": "white"
             }
            },
            "header": {
             "fill": {
              "color": "#C8D4E3"
             },
             "line": {
              "color": "white"
             }
            },
            "type": "table"
           }
          ]
         },
         "layout": {
          "annotationdefaults": {
           "arrowcolor": "#2a3f5f",
           "arrowhead": 0,
           "arrowwidth": 1
          },
          "autotypenumbers": "strict",
          "coloraxis": {
           "colorbar": {
            "outlinewidth": 0,
            "ticks": ""
           }
          },
          "colorscale": {
           "diverging": [
            [
             0,
             "#8e0152"
            ],
            [
             0.1,
             "#c51b7d"
            ],
            [
             0.2,
             "#de77ae"
            ],
            [
             0.3,
             "#f1b6da"
            ],
            [
             0.4,
             "#fde0ef"
            ],
            [
             0.5,
             "#f7f7f7"
            ],
            [
             0.6,
             "#e6f5d0"
            ],
            [
             0.7,
             "#b8e186"
            ],
            [
             0.8,
             "#7fbc41"
            ],
            [
             0.9,
             "#4d9221"
            ],
            [
             1,
             "#276419"
            ]
           ],
           "sequential": [
            [
             0,
             "#0d0887"
            ],
            [
             0.1111111111111111,
             "#46039f"
            ],
            [
             0.2222222222222222,
             "#7201a8"
            ],
            [
             0.3333333333333333,
             "#9c179e"
            ],
            [
             0.4444444444444444,
             "#bd3786"
            ],
            [
             0.5555555555555556,
             "#d8576b"
            ],
            [
             0.6666666666666666,
             "#ed7953"
            ],
            [
             0.7777777777777778,
             "#fb9f3a"
            ],
            [
             0.8888888888888888,
             "#fdca26"
            ],
            [
             1,
             "#f0f921"
            ]
           ],
           "sequentialminus": [
            [
             0,
             "#0d0887"
            ],
            [
             0.1111111111111111,
             "#46039f"
            ],
            [
             0.2222222222222222,
             "#7201a8"
            ],
            [
             0.3333333333333333,
             "#9c179e"
            ],
            [
             0.4444444444444444,
             "#bd3786"
            ],
            [
             0.5555555555555556,
             "#d8576b"
            ],
            [
             0.6666666666666666,
             "#ed7953"
            ],
            [
             0.7777777777777778,
             "#fb9f3a"
            ],
            [
             0.8888888888888888,
             "#fdca26"
            ],
            [
             1,
             "#f0f921"
            ]
           ]
          },
          "colorway": [
           "#636efa",
           "#EF553B",
           "#00cc96",
           "#ab63fa",
           "#FFA15A",
           "#19d3f3",
           "#FF6692",
           "#B6E880",
           "#FF97FF",
           "#FECB52"
          ],
          "font": {
           "color": "#2a3f5f"
          },
          "geo": {
           "bgcolor": "white",
           "lakecolor": "white",
           "landcolor": "#E5ECF6",
           "showlakes": true,
           "showland": true,
           "subunitcolor": "white"
          },
          "hoverlabel": {
           "align": "left"
          },
          "hovermode": "closest",
          "mapbox": {
           "style": "light"
          },
          "paper_bgcolor": "white",
          "plot_bgcolor": "#E5ECF6",
          "polar": {
           "angularaxis": {
            "gridcolor": "white",
            "linecolor": "white",
            "ticks": ""
           },
           "bgcolor": "#E5ECF6",
           "radialaxis": {
            "gridcolor": "white",
            "linecolor": "white",
            "ticks": ""
           }
          },
          "scene": {
           "xaxis": {
            "backgroundcolor": "#E5ECF6",
            "gridcolor": "white",
            "gridwidth": 2,
            "linecolor": "white",
            "showbackground": true,
            "ticks": "",
            "zerolinecolor": "white"
           },
           "yaxis": {
            "backgroundcolor": "#E5ECF6",
            "gridcolor": "white",
            "gridwidth": 2,
            "linecolor": "white",
            "showbackground": true,
            "ticks": "",
            "zerolinecolor": "white"
           },
           "zaxis": {
            "backgroundcolor": "#E5ECF6",
            "gridcolor": "white",
            "gridwidth": 2,
            "linecolor": "white",
            "showbackground": true,
            "ticks": "",
            "zerolinecolor": "white"
           }
          },
          "shapedefaults": {
           "line": {
            "color": "#2a3f5f"
           }
          },
          "ternary": {
           "aaxis": {
            "gridcolor": "white",
            "linecolor": "white",
            "ticks": ""
           },
           "baxis": {
            "gridcolor": "white",
            "linecolor": "white",
            "ticks": ""
           },
           "bgcolor": "#E5ECF6",
           "caxis": {
            "gridcolor": "white",
            "linecolor": "white",
            "ticks": ""
           }
          },
          "title": {
           "x": 0.05
          },
          "xaxis": {
           "automargin": true,
           "gridcolor": "white",
           "linecolor": "white",
           "ticks": "",
           "title": {
            "standoff": 15
           },
           "zerolinecolor": "white",
           "zerolinewidth": 2
          },
          "yaxis": {
           "automargin": true,
           "gridcolor": "white",
           "linecolor": "white",
           "ticks": "",
           "title": {
            "standoff": 15
           },
           "zerolinecolor": "white",
           "zerolinewidth": 2
          }
         }
        },
        "title": {
         "text": "Different Genre popularity"
        }
       }
      },
      "text/html": [
       "<div>                            <div id=\"39269907-ef2e-44f5-8d47-ad53a93986bc\" class=\"plotly-graph-div\" style=\"height:525px; width:100%;\"></div>            <script type=\"text/javascript\">                require([\"plotly\"], function(Plotly) {                    window.PLOTLYENV=window.PLOTLYENV || {};                                    if (document.getElementById(\"39269907-ef2e-44f5-8d47-ad53a93986bc\")) {                    Plotly.newPlot(                        \"39269907-ef2e-44f5-8d47-ad53a93986bc\",                        [{\"domain\":{\"x\":[0.0,1.0],\"y\":[0.0,1.0]},\"hovertemplate\":\"Genre=%{label}<br>Sum_Genre=%{value}<extra></extra>\",\"labels\":[\"Genres\"],\"legendgroup\":\"\",\"name\":\"\",\"showlegend\":true,\"type\":\"pie\",\"values\":[0]}],                        {\"legend\":{\"tracegroupgap\":0},\"template\":{\"data\":{\"bar\":[{\"error_x\":{\"color\":\"#2a3f5f\"},\"error_y\":{\"color\":\"#2a3f5f\"},\"marker\":{\"line\":{\"color\":\"#E5ECF6\",\"width\":0.5},\"pattern\":{\"fillmode\":\"overlay\",\"size\":10,\"solidity\":0.2}},\"type\":\"bar\"}],\"barpolar\":[{\"marker\":{\"line\":{\"color\":\"#E5ECF6\",\"width\":0.5},\"pattern\":{\"fillmode\":\"overlay\",\"size\":10,\"solidity\":0.2}},\"type\":\"barpolar\"}],\"carpet\":[{\"aaxis\":{\"endlinecolor\":\"#2a3f5f\",\"gridcolor\":\"white\",\"linecolor\":\"white\",\"minorgridcolor\":\"white\",\"startlinecolor\":\"#2a3f5f\"},\"baxis\":{\"endlinecolor\":\"#2a3f5f\",\"gridcolor\":\"white\",\"linecolor\":\"white\",\"minorgridcolor\":\"white\",\"startlinecolor\":\"#2a3f5f\"},\"type\":\"carpet\"}],\"choropleth\":[{\"colorbar\":{\"outlinewidth\":0,\"ticks\":\"\"},\"type\":\"choropleth\"}],\"contour\":[{\"colorbar\":{\"outlinewidth\":0,\"ticks\":\"\"},\"colorscale\":[[0.0,\"#0d0887\"],[0.1111111111111111,\"#46039f\"],[0.2222222222222222,\"#7201a8\"],[0.3333333333333333,\"#9c179e\"],[0.4444444444444444,\"#bd3786\"],[0.5555555555555556,\"#d8576b\"],[0.6666666666666666,\"#ed7953\"],[0.7777777777777778,\"#fb9f3a\"],[0.8888888888888888,\"#fdca26\"],[1.0,\"#f0f921\"]],\"type\":\"contour\"}],\"contourcarpet\":[{\"colorbar\":{\"outlinewidth\":0,\"ticks\":\"\"},\"type\":\"contourcarpet\"}],\"heatmap\":[{\"colorbar\":{\"outlinewidth\":0,\"ticks\":\"\"},\"colorscale\":[[0.0,\"#0d0887\"],[0.1111111111111111,\"#46039f\"],[0.2222222222222222,\"#7201a8\"],[0.3333333333333333,\"#9c179e\"],[0.4444444444444444,\"#bd3786\"],[0.5555555555555556,\"#d8576b\"],[0.6666666666666666,\"#ed7953\"],[0.7777777777777778,\"#fb9f3a\"],[0.8888888888888888,\"#fdca26\"],[1.0,\"#f0f921\"]],\"type\":\"heatmap\"}],\"heatmapgl\":[{\"colorbar\":{\"outlinewidth\":0,\"ticks\":\"\"},\"colorscale\":[[0.0,\"#0d0887\"],[0.1111111111111111,\"#46039f\"],[0.2222222222222222,\"#7201a8\"],[0.3333333333333333,\"#9c179e\"],[0.4444444444444444,\"#bd3786\"],[0.5555555555555556,\"#d8576b\"],[0.6666666666666666,\"#ed7953\"],[0.7777777777777778,\"#fb9f3a\"],[0.8888888888888888,\"#fdca26\"],[1.0,\"#f0f921\"]],\"type\":\"heatmapgl\"}],\"histogram\":[{\"marker\":{\"pattern\":{\"fillmode\":\"overlay\",\"size\":10,\"solidity\":0.2}},\"type\":\"histogram\"}],\"histogram2d\":[{\"colorbar\":{\"outlinewidth\":0,\"ticks\":\"\"},\"colorscale\":[[0.0,\"#0d0887\"],[0.1111111111111111,\"#46039f\"],[0.2222222222222222,\"#7201a8\"],[0.3333333333333333,\"#9c179e\"],[0.4444444444444444,\"#bd3786\"],[0.5555555555555556,\"#d8576b\"],[0.6666666666666666,\"#ed7953\"],[0.7777777777777778,\"#fb9f3a\"],[0.8888888888888888,\"#fdca26\"],[1.0,\"#f0f921\"]],\"type\":\"histogram2d\"}],\"histogram2dcontour\":[{\"colorbar\":{\"outlinewidth\":0,\"ticks\":\"\"},\"colorscale\":[[0.0,\"#0d0887\"],[0.1111111111111111,\"#46039f\"],[0.2222222222222222,\"#7201a8\"],[0.3333333333333333,\"#9c179e\"],[0.4444444444444444,\"#bd3786\"],[0.5555555555555556,\"#d8576b\"],[0.6666666666666666,\"#ed7953\"],[0.7777777777777778,\"#fb9f3a\"],[0.8888888888888888,\"#fdca26\"],[1.0,\"#f0f921\"]],\"type\":\"histogram2dcontour\"}],\"mesh3d\":[{\"colorbar\":{\"outlinewidth\":0,\"ticks\":\"\"},\"type\":\"mesh3d\"}],\"parcoords\":[{\"line\":{\"colorbar\":{\"outlinewidth\":0,\"ticks\":\"\"}},\"type\":\"parcoords\"}],\"pie\":[{\"automargin\":true,\"type\":\"pie\"}],\"scatter\":[{\"marker\":{\"colorbar\":{\"outlinewidth\":0,\"ticks\":\"\"}},\"type\":\"scatter\"}],\"scatter3d\":[{\"line\":{\"colorbar\":{\"outlinewidth\":0,\"ticks\":\"\"}},\"marker\":{\"colorbar\":{\"outlinewidth\":0,\"ticks\":\"\"}},\"type\":\"scatter3d\"}],\"scattercarpet\":[{\"marker\":{\"colorbar\":{\"outlinewidth\":0,\"ticks\":\"\"}},\"type\":\"scattercarpet\"}],\"scattergeo\":[{\"marker\":{\"colorbar\":{\"outlinewidth\":0,\"ticks\":\"\"}},\"type\":\"scattergeo\"}],\"scattergl\":[{\"marker\":{\"colorbar\":{\"outlinewidth\":0,\"ticks\":\"\"}},\"type\":\"scattergl\"}],\"scattermapbox\":[{\"marker\":{\"colorbar\":{\"outlinewidth\":0,\"ticks\":\"\"}},\"type\":\"scattermapbox\"}],\"scatterpolar\":[{\"marker\":{\"colorbar\":{\"outlinewidth\":0,\"ticks\":\"\"}},\"type\":\"scatterpolar\"}],\"scatterpolargl\":[{\"marker\":{\"colorbar\":{\"outlinewidth\":0,\"ticks\":\"\"}},\"type\":\"scatterpolargl\"}],\"scatterternary\":[{\"marker\":{\"colorbar\":{\"outlinewidth\":0,\"ticks\":\"\"}},\"type\":\"scatterternary\"}],\"surface\":[{\"colorbar\":{\"outlinewidth\":0,\"ticks\":\"\"},\"colorscale\":[[0.0,\"#0d0887\"],[0.1111111111111111,\"#46039f\"],[0.2222222222222222,\"#7201a8\"],[0.3333333333333333,\"#9c179e\"],[0.4444444444444444,\"#bd3786\"],[0.5555555555555556,\"#d8576b\"],[0.6666666666666666,\"#ed7953\"],[0.7777777777777778,\"#fb9f3a\"],[0.8888888888888888,\"#fdca26\"],[1.0,\"#f0f921\"]],\"type\":\"surface\"}],\"table\":[{\"cells\":{\"fill\":{\"color\":\"#EBF0F8\"},\"line\":{\"color\":\"white\"}},\"header\":{\"fill\":{\"color\":\"#C8D4E3\"},\"line\":{\"color\":\"white\"}},\"type\":\"table\"}]},\"layout\":{\"annotationdefaults\":{\"arrowcolor\":\"#2a3f5f\",\"arrowhead\":0,\"arrowwidth\":1},\"autotypenumbers\":\"strict\",\"coloraxis\":{\"colorbar\":{\"outlinewidth\":0,\"ticks\":\"\"}},\"colorscale\":{\"diverging\":[[0,\"#8e0152\"],[0.1,\"#c51b7d\"],[0.2,\"#de77ae\"],[0.3,\"#f1b6da\"],[0.4,\"#fde0ef\"],[0.5,\"#f7f7f7\"],[0.6,\"#e6f5d0\"],[0.7,\"#b8e186\"],[0.8,\"#7fbc41\"],[0.9,\"#4d9221\"],[1,\"#276419\"]],\"sequential\":[[0.0,\"#0d0887\"],[0.1111111111111111,\"#46039f\"],[0.2222222222222222,\"#7201a8\"],[0.3333333333333333,\"#9c179e\"],[0.4444444444444444,\"#bd3786\"],[0.5555555555555556,\"#d8576b\"],[0.6666666666666666,\"#ed7953\"],[0.7777777777777778,\"#fb9f3a\"],[0.8888888888888888,\"#fdca26\"],[1.0,\"#f0f921\"]],\"sequentialminus\":[[0.0,\"#0d0887\"],[0.1111111111111111,\"#46039f\"],[0.2222222222222222,\"#7201a8\"],[0.3333333333333333,\"#9c179e\"],[0.4444444444444444,\"#bd3786\"],[0.5555555555555556,\"#d8576b\"],[0.6666666666666666,\"#ed7953\"],[0.7777777777777778,\"#fb9f3a\"],[0.8888888888888888,\"#fdca26\"],[1.0,\"#f0f921\"]]},\"colorway\":[\"#636efa\",\"#EF553B\",\"#00cc96\",\"#ab63fa\",\"#FFA15A\",\"#19d3f3\",\"#FF6692\",\"#B6E880\",\"#FF97FF\",\"#FECB52\"],\"font\":{\"color\":\"#2a3f5f\"},\"geo\":{\"bgcolor\":\"white\",\"lakecolor\":\"white\",\"landcolor\":\"#E5ECF6\",\"showlakes\":true,\"showland\":true,\"subunitcolor\":\"white\"},\"hoverlabel\":{\"align\":\"left\"},\"hovermode\":\"closest\",\"mapbox\":{\"style\":\"light\"},\"paper_bgcolor\":\"white\",\"plot_bgcolor\":\"#E5ECF6\",\"polar\":{\"angularaxis\":{\"gridcolor\":\"white\",\"linecolor\":\"white\",\"ticks\":\"\"},\"bgcolor\":\"#E5ECF6\",\"radialaxis\":{\"gridcolor\":\"white\",\"linecolor\":\"white\",\"ticks\":\"\"}},\"scene\":{\"xaxis\":{\"backgroundcolor\":\"#E5ECF6\",\"gridcolor\":\"white\",\"gridwidth\":2,\"linecolor\":\"white\",\"showbackground\":true,\"ticks\":\"\",\"zerolinecolor\":\"white\"},\"yaxis\":{\"backgroundcolor\":\"#E5ECF6\",\"gridcolor\":\"white\",\"gridwidth\":2,\"linecolor\":\"white\",\"showbackground\":true,\"ticks\":\"\",\"zerolinecolor\":\"white\"},\"zaxis\":{\"backgroundcolor\":\"#E5ECF6\",\"gridcolor\":\"white\",\"gridwidth\":2,\"linecolor\":\"white\",\"showbackground\":true,\"ticks\":\"\",\"zerolinecolor\":\"white\"}},\"shapedefaults\":{\"line\":{\"color\":\"#2a3f5f\"}},\"ternary\":{\"aaxis\":{\"gridcolor\":\"white\",\"linecolor\":\"white\",\"ticks\":\"\"},\"baxis\":{\"gridcolor\":\"white\",\"linecolor\":\"white\",\"ticks\":\"\"},\"bgcolor\":\"#E5ECF6\",\"caxis\":{\"gridcolor\":\"white\",\"linecolor\":\"white\",\"ticks\":\"\"}},\"title\":{\"x\":0.05},\"xaxis\":{\"automargin\":true,\"gridcolor\":\"white\",\"linecolor\":\"white\",\"ticks\":\"\",\"title\":{\"standoff\":15},\"zerolinecolor\":\"white\",\"zerolinewidth\":2},\"yaxis\":{\"automargin\":true,\"gridcolor\":\"white\",\"linecolor\":\"white\",\"ticks\":\"\",\"title\":{\"standoff\":15},\"zerolinecolor\":\"white\",\"zerolinewidth\":2}}},\"title\":{\"text\":\"Different Genre popularity\"}},                        {\"responsive\": true}                    ).then(function(){\n",
       "                            \n",
       "var gd = document.getElementById('39269907-ef2e-44f5-8d47-ad53a93986bc');\n",
       "var x = new MutationObserver(function (mutations, observer) {{\n",
       "        var display = window.getComputedStyle(gd).display;\n",
       "        if (!display || display === 'none') {{\n",
       "            console.log([gd, 'removed!']);\n",
       "            Plotly.purge(gd);\n",
       "            observer.disconnect();\n",
       "        }}\n",
       "}});\n",
       "\n",
       "// Listen for the removal of the full notebook cells\n",
       "var notebookContainer = gd.closest('#notebook-container');\n",
       "if (notebookContainer) {{\n",
       "    x.observe(notebookContainer, {childList: true});\n",
       "}}\n",
       "\n",
       "// Listen for the clearing of the current output cell\n",
       "var outputEl = gd.closest('.output');\n",
       "if (outputEl) {{\n",
       "    x.observe(outputEl, {childList: true});\n",
       "}}\n",
       "\n",
       "                        })                };                });            </script>        </div>"
      ]
     },
     "metadata": {},
     "output_type": "display_data"
    }
   ],
   "source": [
    "import plotly.express as px\n",
    "\n",
    "fig = px.pie(df_genres_sum, values='Sum_Genre', names='Genre', title='Different Genre popularity')\n",
    "fig.show()"
   ]
  },
  {
   "cell_type": "code",
   "execution_count": null,
   "metadata": {},
   "outputs": [],
   "source": []
  }
 ],
 "metadata": {
  "kernelspec": {
   "display_name": "Python 3",
   "language": "python",
   "name": "python3"
  },
  "language_info": {
   "codemirror_mode": {
    "name": "ipython",
    "version": 3
   },
   "file_extension": ".py",
   "mimetype": "text/x-python",
   "name": "python",
   "nbconvert_exporter": "python",
   "pygments_lexer": "ipython3",
   "version": "3.8.5"
  }
 },
 "nbformat": 4,
 "nbformat_minor": 4
}
